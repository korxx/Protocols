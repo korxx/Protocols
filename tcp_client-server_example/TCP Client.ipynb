{
 "cells": [
  {
   "cell_type": "markdown",
   "metadata": {},
   "source": [
    "<h3>Transmission Control Protocol example with Client-Server Model (Client)</h3>\n",
    "<h4>Felipe Boff Nunes - 16104270</h4>"
   ]
  },
  {
   "cell_type": "code",
   "execution_count": 18,
   "metadata": {},
   "outputs": [
    {
     "name": "stdout",
     "output_type": "stream",
     "text": [
      "message sent from client\n",
      "Connection closed\n"
     ]
    }
   ],
   "source": [
    "import socket\n",
    "\n",
    "HOST = 'localhost'\n",
    "PORT = 50002\n",
    "\n",
    "client_socket = socket.socket(socket.AF_INET, #Internet\n",
    "                              socket.SOCK_STREAM) #TCP\n",
    "client_socket.connect((HOST, PORT))\n",
    "\n",
    "with open('message.txt', 'rb') as message:\n",
    "    for data in message:\n",
    "        client_socket.sendall(data)    \n",
    "    print('message sent from client')\n",
    "    \n",
    "client_socket.close()\n",
    "print('Connection closed')"
   ]
  },
  {
   "cell_type": "code",
   "execution_count": 19,
   "metadata": {},
   "outputs": [
    {
     "name": "stdout",
     "output_type": "stream",
     "text": [
      "Overwriting message.txt\n"
     ]
    }
   ],
   "source": [
    "%%writefile message.txt\n",
    "This is a text message.\n",
    "Text message to be sent from client.\n",
    "The writefile in the beggining of this cell will make this a .txt when you run it."
   ]
  },
  {
   "cell_type": "code",
   "execution_count": null,
   "metadata": {},
   "outputs": [],
   "source": []
  }
 ],
 "metadata": {
  "kernelspec": {
   "display_name": "Python 3",
   "language": "python",
   "name": "python3"
  },
  "language_info": {
   "codemirror_mode": {
    "name": "ipython",
    "version": 3
   },
   "file_extension": ".py",
   "mimetype": "text/x-python",
   "name": "python",
   "nbconvert_exporter": "python",
   "pygments_lexer": "ipython3",
   "version": "3.6.4"
  }
 },
 "nbformat": 4,
 "nbformat_minor": 2
}
