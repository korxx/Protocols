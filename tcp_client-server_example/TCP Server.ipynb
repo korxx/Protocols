{
 "cells": [
  {
   "cell_type": "markdown",
   "metadata": {},
   "source": [
    "<h3>Transmission Control Protocol example with Client-Server Model (Server)</h3>\n",
    "<hr>\n",
    "<p>TCP provides reliable, ordered, and error-checked delivery of a stream of octets (bytes) between applications running on hosts communicating by an IP network. Major Internet applications such as the World Wide Web, email, remote administration, and file transfer rely on TCP.</p>\n",
    "<p>A <b>Socket</b> is one endpoint of a two-way communication link between two programs running on the network. A socket is bound to a <b>port number</b> so that the TCP layer can identify the application that data is destined to be sent to.</p>\n",
    "<h4>Felipe Boff Nunes - 16104270</h4>"
   ]
  },
  {
   "cell_type": "code",
   "execution_count": 17,
   "metadata": {},
   "outputs": [
    {
     "name": "stdout",
     "output_type": "stream",
     "text": [
      "Received: This is a text message.\n",
      "Connection closed\n"
     ]
    }
   ],
   "source": [
    "import socket\n",
    "\n",
    "HOST = 'localhost'\n",
    "PORT = 50002\n",
    "BACKLOG = 1\n",
    "SIZE = 1024\n",
    "\n",
    "server_socket = socket.socket(socket.AF_INET, #Internet\n",
    "                              socket.SOCK_STREAM) #TCP\n",
    "server_socket.bind((HOST, PORT))\n",
    "server_socket.listen(BACKLOG)\n",
    "connection, address = server_socket.accept()\n",
    "\n",
    "while True:\n",
    "    data = connection.recv(SIZE)\n",
    "    if not data:\n",
    "        break\n",
    "    else:\n",
    "        print('Received:', data.decode())\n",
    "\n",
    "connection.close()\n",
    "print('Connection closed')"
   ]
  },
  {
   "cell_type": "code",
   "execution_count": null,
   "metadata": {},
   "outputs": [],
   "source": []
  }
 ],
 "metadata": {
  "kernelspec": {
   "display_name": "Python 3",
   "language": "python",
   "name": "python3"
  },
  "language_info": {
   "codemirror_mode": {
    "name": "ipython",
    "version": 3
   },
   "file_extension": ".py",
   "mimetype": "text/x-python",
   "name": "python",
   "nbconvert_exporter": "python",
   "pygments_lexer": "ipython3",
   "version": "3.6.4"
  }
 },
 "nbformat": 4,
 "nbformat_minor": 2
}
