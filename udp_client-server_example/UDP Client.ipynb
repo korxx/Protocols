{
 "cells": [
  {
   "cell_type": "markdown",
   "metadata": {},
   "source": [
    "<h3>User Datagram Protocol example with Client-Server Model (Client)</h3>\n",
    "<h4>Felipe Boff Nunes - 16104270</h4>"
   ]
  },
  {
   "cell_type": "code",
   "execution_count": 6,
   "metadata": {},
   "outputs": [
    {
     "data": {
      "text/plain": [
       "23"
      ]
     },
     "execution_count": 6,
     "metadata": {},
     "output_type": "execute_result"
    }
   ],
   "source": [
    "import socket\n",
    "\n",
    "HOST = 'localhost'\n",
    "PORT = 50005\n",
    "client_socket = socket.socket(socket.AF_INET, #Internet\n",
    "                              socket.SOCK_DGRAM) #UDP\n",
    "client_socket.connect((HOST, PORT))\n",
    "\n",
    "FILE = 'message.txt'\n",
    "message = open(FILE, 'rb').read()\n",
    "\n",
    "client_socket.sendto(message, (HOST, PORT))"
   ]
  },
  {
   "cell_type": "code",
   "execution_count": 2,
   "metadata": {},
   "outputs": [
    {
     "name": "stdout",
     "output_type": "stream",
     "text": [
      "Overwriting message.txt\n"
     ]
    }
   ],
   "source": [
    "%%writefile message.txt\n",
    "This is a text message."
   ]
  }
 ],
 "metadata": {
  "kernelspec": {
   "display_name": "Python 3",
   "language": "python",
   "name": "python3"
  },
  "language_info": {
   "codemirror_mode": {
    "name": "ipython",
    "version": 3
   },
   "file_extension": ".py",
   "mimetype": "text/x-python",
   "name": "python",
   "nbconvert_exporter": "python",
   "pygments_lexer": "ipython3",
   "version": "3.6.4"
  }
 },
 "nbformat": 4,
 "nbformat_minor": 2
}
