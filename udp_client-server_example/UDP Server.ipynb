{
 "cells": [
  {
   "cell_type": "markdown",
   "metadata": {},
   "source": [
    "<h3>User Datagram Protocol example with Client-Server Model (Server)</h3>\n",
    "<hr>\n",
    "<p>UDP uses a simple connectionless communication model with a minimum of protocol mechanism. UDP provides checksums for data integrity, and port numbers for addressing different functions at the source and destination of the datagram. It has no handshaking dialogues, and thus exposes the user's program to any unreliability of the underlying network; There is no guarantee of delivery, ordering, or duplicate protection.</p>\n",
    "<p>A <b>Socket</b> is one endpoint of a two-way communication link between two programs running on the network. A socket is bound to a <b>port number</b> so that the UDP layer can identify the application that data is destined to be sent to.</p>\n",
    "<h4>Felipe Boff Nunes - 16104270</h4>"
   ]
  },
  {
   "cell_type": "code",
   "execution_count": 1,
   "metadata": {},
   "outputs": [
    {
     "name": "stdout",
     "output_type": "stream",
     "text": [
      "Received: This is a text message.\n",
      "Received: This is a text message.\n",
      "Connection closed\n"
     ]
    }
   ],
   "source": [
    "import socket\n",
    "import time\n",
    "\n",
    "HOST = 'localhost'\n",
    "PORT = 50005\n",
    "SIZE = 1024\n",
    "\n",
    "TIMEOUT = time.time() + 5 # [seconds]\n",
    "\n",
    "server_socket = socket.socket(socket.AF_INET, #Internet\n",
    "                              socket.SOCK_DGRAM) #TCP\n",
    "server_socket.bind((HOST, PORT))\n",
    "\n",
    "while time.time() < TIMEOUT:\n",
    "    data, addr = server_socket.recvfrom(SIZE)\n",
    "    print('Received:', data.decode())\n",
    "\n",
    "server_socket.close()\n",
    "print('Connection closed')"
   ]
  }
 ],
 "metadata": {
  "kernelspec": {
   "display_name": "Python 3",
   "language": "python",
   "name": "python3"
  },
  "language_info": {
   "codemirror_mode": {
    "name": "ipython",
    "version": 3
   },
   "file_extension": ".py",
   "mimetype": "text/x-python",
   "name": "python",
   "nbconvert_exporter": "python",
   "pygments_lexer": "ipython3",
   "version": "3.6.4"
  }
 },
 "nbformat": 4,
 "nbformat_minor": 2
}
